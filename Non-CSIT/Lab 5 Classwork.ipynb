{
 "cells": [
  {
   "cell_type": "markdown",
   "metadata": {},
   "source": [
    "# EDUNET FOUNDATION"
   ]
  },
  {
   "cell_type": "markdown",
   "metadata": {},
   "source": [
    "# LAB 5 - Exercise on Python Comparison Operators"
   ]
  },
  {
   "cell_type": "markdown",
   "metadata": {},
   "source": [
    "#### Question 1: Create a program that checks if a given string is a palindrome using comparison operators."
   ]
  },
  {
   "cell_type": "markdown",
   "metadata": {},
   "source": [
    "The code prompts the user to enter a string, then it reverses the string and checks if the original string and the reversed string are the same. If they are, it prints \"It's a palindrome,\" indicating that the input string is a palindrome; otherwise, it prints \"It's not a palindrome.\""
   ]
  },
  {
   "cell_type": "code",
   "execution_count": 1,
   "metadata": {},
   "outputs": [
    {
     "name": "stdout",
     "output_type": "stream",
     "text": [
      "Enter a string: welcome to Edunet Foundation\n",
      "It's not a palindrome.\n"
     ]
    }
   ],
   "source": [
    "user_string = input(\"Enter a string: \")\n",
    "reversed_string = user_string[::-1]\n",
    "\n",
    "if user_string == reversed_string:\n",
    "    print(\"It's a palindrome.\")\n",
    "else:\n",
    "    print(\"It's not a palindrome.\")\n"
   ]
  },
  {
   "cell_type": "markdown",
   "metadata": {},
   "source": [
    "#### Question 2: Write a Python program that compares two lists and prints whether they have any elements in common.\n",
    "\n",
    "Let's discuss the code: list1 and list2 are defined as two lists containing integers.\n",
    "\n",
    "set(list1) and set(list2) are used to convert both lists into sets. Sets are data structures in Python that do not allow duplicate elements.\n",
    "\n",
    "set(list1) & set(list2) performs a set intersection operation, which results in a new set containing only the elements that are common to both list1 and list2.\n",
    "\n",
    "The if common_elements: statement checks whether there are any common elements in the common_elements set. If there are common elements (i.e., the set is not empty), it prints \"Common elements\" along with the actual common elements. Otherwise, it prints \"No common elements.\""
   ]
  },
  {
   "cell_type": "code",
   "execution_count": 2,
   "metadata": {},
   "outputs": [
    {
     "name": "stdout",
     "output_type": "stream",
     "text": [
      "Common elements: {3}\n"
     ]
    }
   ],
   "source": [
    "list1 = [1, 2, 3, 4, 5]\n",
    "list2 = [3, 6, 7, 8, 9]\n",
    "\n",
    "common_elements = set(list1) & set(list2)\n",
    "\n",
    "if common_elements:\n",
    "    print(\"Common elements:\", common_elements)\n",
    "else:\n",
    "    print(\"No common elements.\")\n"
   ]
  },
  {
   "cell_type": "markdown",
   "metadata": {},
   "source": [
    "#### Question 3: Develop a program that compares the ages of three people and determines who is the youngest and who is the oldest.\n",
    "\n",
    "The code collects the ages of three persons, finds the youngest and oldest person among them, and then prints their ages. Here's a step-by-step explanation:\n",
    "\n",
    "The code starts by collecting the ages of three persons using the input function:\n",
    "It prompts the user to enter the age of each person, and the input is collected as strings.\n",
    "int(...) is used to convert the input strings into integers, assuming that the user enters valid integer values.\n",
    "\n",
    "The ages are then stored in a list called ages:This creates a list containing the ages of all three persons.\n",
    "\n",
    "The code uses the min and max functions to find the youngest and oldest person's ages, respectively:\n",
    "min(ages) returns the smallest age in the ages list, which represents the youngest person.\n",
    "max(ages) returns the largest age in the ages list, which represents the oldest person.\n",
    "\n",
    "Finally, the code prints the ages of the youngest and oldest persons:\n",
    "It uses the print function to display the results along with descriptive messages."
   ]
  },
  {
   "cell_type": "code",
   "execution_count": 3,
   "metadata": {},
   "outputs": [
    {
     "name": "stdout",
     "output_type": "stream",
     "text": [
      "Enter age of person 1: 45\n",
      "Enter age of person 2: 32\n",
      "Enter age of person 3: 35\n",
      "Youngest person is 32 years old.\n",
      "Oldest person is 45 years old.\n"
     ]
    }
   ],
   "source": [
    "person1_age = int(input(\"Enter age of person 1: \"))\n",
    "person2_age = int(input(\"Enter age of person 2: \"))\n",
    "person3_age = int(input(\"Enter age of person 3: \"))\n",
    "\n",
    "ages = [person1_age, person2_age, person3_age]\n",
    "\n",
    "youngest_age = min(ages)\n",
    "oldest_age = max(ages)\n",
    "\n",
    "print(\"Youngest person is\", youngest_age, \"years old.\")\n",
    "print(\"Oldest person is\", oldest_age, \"years old.\")\n"
   ]
  },
  {
   "cell_type": "markdown",
   "metadata": {},
   "source": [
    "#### Question 4: Create a program that checks if a given number is a prime number using comparison operators.\n",
    "\n",
    "This Python code determines whether a given number is prime or not. Here's a step-by-step explanation of how it works:\n",
    "\n",
    "The code starts by prompting the user to enter a number:The input function is used to collect a number from the user, and int(...) is used to convert the input (which is initially a string) into an integer.\n",
    "\n",
    "The code then checks if the entered number (num) is greater than 1:If the number is greater than 1, the code proceeds to check for primality.\n",
    "\n",
    "Inside the if block, the code enters a for loop that iterates from 2 to the square root of the entered number (rounded up to the nearest integer):The loop is used to test potential factors of the number, starting from 2 and going up to the square root of the number (plus 1). This is done to optimize the primality check, as factors of a number above its square root can be found by checking the factors below the square root.\n",
    "\n",
    "Within the loop, the code checks if the entered number (num) is divisible by the current value of i:If num is divisible by i (i.e., num modulo i is equal to 0), it means the number is not prime.\n",
    "\n",
    "If a factor is found (i.e., num is not prime), the code prints a message indicating that the number is not prime and exits the loop.\n",
    "\n",
    "If no factors are found (i.e., the loop completes without finding any factors), the code prints a message indicating that the number is prime.\n",
    "\n",
    "If the entered number is less than or equal to 1, the code directly prints a message indicating that it's not prime."
   ]
  },
  {
   "cell_type": "code",
   "execution_count": 4,
   "metadata": {},
   "outputs": [
    {
     "name": "stdout",
     "output_type": "stream",
     "text": [
      "Enter a number: 56\n",
      "56 is not a prime number.\n"
     ]
    }
   ],
   "source": [
    "num = int(input(\"Enter a number: \"))\n",
    "\n",
    "if num > 1:\n",
    "    for i in range(2, int(num ** 0.5) + 1):\n",
    "        if (num % i) == 0:\n",
    "            print(num, \"is not a prime number.\")\n",
    "            break\n",
    "    else:\n",
    "        print(num, \"is a prime number.\")\n",
    "else:\n",
    "    print(num, \"is not a prime number.\")\n"
   ]
  },
  {
   "cell_type": "markdown",
   "metadata": {},
   "source": [
    "#### Question 5: Build a program that compares the lengths of two words and prints the longer word, or \"Both words are of equal length\" if they are the same length.\n",
    "\n",
    "The code starts by collecting two words from the user: The input function is used to prompt the user to enter two words. The user's input is stored in the variables word1 and word2.\n",
    "\n",
    "The code then uses len(word1) and len(word2) to calculate the lengths of the two words.\n",
    "\n",
    "It checks if the length of word1 is greater than the length of word2: If the length of word1 is greater, it means word1 is longer, so the code prints a message \"print(word1, \"is longer.\").\n",
    "\n",
    "If the length of word2 is greater than the length of word1, the code prints a message elif len(word2) > len(word1):\n",
    "    print(word2, \"is longer.\")\n",
    "\n",
    "If neither of the above conditions is true, it means that both words have the same length, and the code prints a message indicating that:else:print(\"Both words are of equal length.\")\n"
   ]
  },
  {
   "cell_type": "code",
   "execution_count": 5,
   "metadata": {},
   "outputs": [
    {
     "name": "stdout",
     "output_type": "stream",
     "text": [
      "Enter the first word: r\n",
      "Enter the second word: a\n",
      "Both words are of equal length.\n"
     ]
    }
   ],
   "source": [
    "word1 = input(\"Enter the first word: \")\n",
    "word2 = input(\"Enter the second word: \")\n",
    "\n",
    "if len(word1) > len(word2):\n",
    "    print(word1, \"is longer.\")\n",
    "elif len(word2) > len(word1):\n",
    "    print(word2, \"is longer.\")\n",
    "else:\n",
    "    print(\"Both words are of equal length.\")\n"
   ]
  },
  {
   "cell_type": "code",
   "execution_count": null,
   "metadata": {},
   "outputs": [],
   "source": []
  }
 ],
 "metadata": {
  "kernelspec": {
   "display_name": "Python 3 (ipykernel)",
   "language": "python",
   "name": "python3"
  },
  "language_info": {
   "codemirror_mode": {
    "name": "ipython",
    "version": 3
   },
   "file_extension": ".py",
   "mimetype": "text/x-python",
   "name": "python",
   "nbconvert_exporter": "python",
   "pygments_lexer": "ipython3",
   "version": "3.9.13"
  }
 },
 "nbformat": 4,
 "nbformat_minor": 4
}
