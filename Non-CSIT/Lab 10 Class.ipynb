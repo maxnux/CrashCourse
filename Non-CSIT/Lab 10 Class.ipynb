{
 "cells": [
  {
   "cell_type": "markdown",
   "metadata": {},
   "source": [
    "# Edunet Foundation\n",
    "\n",
    "## Lab 10: Implementation of Python Constructors "
   ]
  },
  {
   "cell_type": "markdown",
   "metadata": {},
   "source": [
    "In Python, a constructor is a special method within a class that is automatically called when an object of that class is created. Constructors are used to initialize the attributes or properties of an object. The most commonly used constructor in Python is the __init__ method, which is also known as the initializer.\n",
    "\n",
    "Here's an explanation of Python constructors with an example:"
   ]
  },
  {
   "cell_type": "code",
   "execution_count": 1,
   "metadata": {},
   "outputs": [
    {
     "name": "stdout",
     "output_type": "stream",
     "text": [
      "Alice is 25 years old.\n",
      "Bob is 30 years old.\n"
     ]
    }
   ],
   "source": [
    "class Person:\n",
    "    def __init__(self, name, age):\n",
    "        self.name = name\n",
    "        self.age = age\n",
    "\n",
    "# Creating instances of the Person class\n",
    "person1 = Person(\"Alice\", 25)\n",
    "person2 = Person(\"Bob\", 30)\n",
    "\n",
    "# Accessing object attributes\n",
    "print(f\"{person1.name} is {person1.age} years old.\")\n",
    "print(f\"{person2.name} is {person2.age} years old.\")\n"
   ]
  },
  {
   "cell_type": "markdown",
   "metadata": {},
   "source": [
    "In this example:\n",
    "\n",
    "We define a class called Person.\n",
    "\n",
    "Inside the class, we define an __init__ method. This method takes two parameters, self (which refers to the instance of the class) and two additional parameters, name and age. Inside the __init__ method, we initialize the instance's attributes self.name and self.age with the values of name and age passed as arguments.\n",
    "\n",
    "We then create two instances of the Person class, person1 and person2, by calling the class as if it were a function, passing the required parameters.\n",
    "\n",
    "Finally, we access and print the attributes of these instances.\n",
    "\n",
    "When we create an instance of the Person class, the __init__ method is automatically called with the values we provide, and it initializes the attributes for that specific instance. This allows us to set initial values for object properties during object creation.\n",
    "\n",
    "Constructors are commonly used in object-oriented programming to ensure that objects start with valid and initialized states, making the code more organized and reliable."
   ]
  },
  {
   "cell_type": "markdown",
   "metadata": {},
   "source": [
    "### Example 1: Constructor with Default Values\n",
    "\n",
    "You can provide default values for constructor parameters in case they are not provided during object creation."
   ]
  },
  {
   "cell_type": "code",
   "execution_count": 2,
   "metadata": {},
   "outputs": [
    {
     "name": "stdout",
     "output_type": "stream",
     "text": [
      "Unknown is 0 years old.\n",
      "Alice is 20 years old.\n"
     ]
    }
   ],
   "source": [
    "class Student:\n",
    "    def __init__(self, name=\"Unknown\", age=0):\n",
    "        self.name = name\n",
    "        self.age = age\n",
    "\n",
    "# Creating instances of the Student class with and without providing parameters\n",
    "student1 = Student()\n",
    "student2 = Student(\"Alice\", 20)\n",
    "\n",
    "print(f\"{student1.name} is {student1.age} years old.\")\n",
    "print(f\"{student2.name} is {student2.age} years old.\")\n"
   ]
  },
  {
   "cell_type": "markdown",
   "metadata": {},
   "source": [
    "In this example, if you create a Student object without providing values for name and age, the constructor will use the default values of \"Unknown\" and 0, respectively."
   ]
  },
  {
   "cell_type": "markdown",
   "metadata": {},
   "source": [
    "### Example 2: Constructor for a Car Class\n",
    "\n",
    "Here's an example using a Car class:"
   ]
  },
  {
   "cell_type": "code",
   "execution_count": 3,
   "metadata": {},
   "outputs": [
    {
     "name": "stdout",
     "output_type": "stream",
     "text": [
      "My car is a 2022 Toyota Camry.\n",
      "Mileage before driving: 0 miles.\n",
      "Mileage after driving: 100 miles.\n"
     ]
    }
   ],
   "source": [
    "class Car:\n",
    "    def __init__(self, make, model, year):\n",
    "        self.make = make\n",
    "        self.model = model\n",
    "        self.year = year\n",
    "        self.mileage = 0\n",
    "\n",
    "    def drive(self, miles):\n",
    "        self.mileage += miles\n",
    "\n",
    "# Creating an instance of the Car class\n",
    "my_car = Car(\"Toyota\", \"Camry\", 2022)\n",
    "\n",
    "# Accessing attributes and driving the car\n",
    "print(f\"My car is a {my_car.year} {my_car.make} {my_car.model}.\")\n",
    "print(f\"Mileage before driving: {my_car.mileage} miles.\")\n",
    "my_car.drive(100)\n",
    "print(f\"Mileage after driving: {my_car.mileage} miles.\")\n"
   ]
  },
  {
   "cell_type": "markdown",
   "metadata": {},
   "source": [
    "In this example, we define a Car class with a constructor that initializes the make, model, year, and mileage attributes. The drive method allows us to update the mileage of the car."
   ]
  },
  {
   "cell_type": "markdown",
   "metadata": {},
   "source": [
    "### Example 3: Constructor for a Bank Account Class\n",
    "\n",
    "Here's an example using a BankAccount class:"
   ]
  },
  {
   "cell_type": "code",
   "execution_count": 4,
   "metadata": {},
   "outputs": [
    {
     "name": "stdout",
     "output_type": "stream",
     "text": [
      "Insufficient funds.\n",
      "Account holder: Alice\n",
      "Account balance: $1200.0\n"
     ]
    }
   ],
   "source": [
    "class BankAccount:\n",
    "    def __init__(self, account_number, holder, balance=0.0):\n",
    "        self.account_number = account_number\n",
    "        self.holder = holder\n",
    "        self.balance = balance\n",
    "\n",
    "    def deposit(self, amount):\n",
    "        self.balance += amount\n",
    "\n",
    "    def withdraw(self, amount):\n",
    "        if amount <= self.balance:\n",
    "            self.balance -= amount\n",
    "        else:\n",
    "            print(\"Insufficient funds.\")\n",
    "\n",
    "# Creating an instance of the BankAccount class\n",
    "account = BankAccount(\"12345\", \"Alice\", 1000.0)\n",
    "\n",
    "# Performing deposits and withdrawals\n",
    "account.deposit(500.0)\n",
    "account.withdraw(300.0)\n",
    "account.withdraw(1500.0)  # This will print \"Insufficient funds.\"\n",
    "\n",
    "print(f\"Account holder: {account.holder}\")\n",
    "print(f\"Account balance: ${account.balance}\")\n"
   ]
  },
  {
   "cell_type": "markdown",
   "metadata": {},
   "source": [
    "In this example, we define a BankAccount class with a constructor that initializes the account number, holder, and balance attributes. The deposit and withdraw methods allow us to modify the account balance."
   ]
  },
  {
   "cell_type": "code",
   "execution_count": null,
   "metadata": {},
   "outputs": [],
   "source": []
  }
 ],
 "metadata": {
  "kernelspec": {
   "display_name": "Python 3 (ipykernel)",
   "language": "python",
   "name": "python3"
  },
  "language_info": {
   "codemirror_mode": {
    "name": "ipython",
    "version": 3
   },
   "file_extension": ".py",
   "mimetype": "text/x-python",
   "name": "python",
   "nbconvert_exporter": "python",
   "pygments_lexer": "ipython3",
   "version": "3.9.13"
  }
 },
 "nbformat": 4,
 "nbformat_minor": 4
}
