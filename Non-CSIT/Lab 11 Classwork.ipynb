{
 "cells": [
  {
   "cell_type": "markdown",
   "id": "4f34b419",
   "metadata": {},
   "source": [
    "# EDUNET FOUNDATION-Class Exercise Notebook\n",
    "\n",
    "# Lab 11: Python program that demonstrates exception handling "
   ]
  },
  {
   "cell_type": "markdown",
   "id": "4b2b2cc7",
   "metadata": {},
   "source": [
    "# 1. Write a Python program to handle a ZeroDivisionError exception when dividing a number by zero.\n",
    "\n",
    "exception ZeroDivisionError:\n",
    "\n",
    "Raised when the second argument of a division or modulo operation is zero. The associated value is a string indicating the type of the operands and the operation."
   ]
  },
  {
   "cell_type": "code",
   "execution_count": 1,
   "id": "e401141f",
   "metadata": {},
   "outputs": [
    {
     "name": "stdout",
     "output_type": "stream",
     "text": [
      "The division by zero operation is not allowed.\n"
     ]
    }
   ],
   "source": [
    "def divide_numbers(x, y):\n",
    "    try:\n",
    "        result = x / y\n",
    "        print(\"Result:\", result)\n",
    "    except ZeroDivisionError:\n",
    "        print(\"The division by zero operation is not allowed.\")\n",
    "# Usage\n",
    "numerator = 100\n",
    "denominator = 0\n",
    "divide_numbers(numerator, denominator)"
   ]
  },
  {
   "cell_type": "raw",
   "id": "a08b6323",
   "metadata": {},
   "source": [
    "Explanation:\n",
    "\n",
    "In the above exercise -\n",
    "\n",
    "The \"divide_numbers(0)\" function takes two parameters, x and y, representing the numerator and denominator respectively. The try block within the function attempts to perform the division operation x / y.\n",
    "\n",
    "If the division operation succeeds, the result is printed. However, if a ZeroDivisionError exception occurs because the denominator y is zero, the program jumps to the except block. The except block prints an error message indicating that division by zero is not permitted."
   ]
  },
  {
   "cell_type": "markdown",
   "id": "8ce50769",
   "metadata": {},
   "source": [
    "# 2. Write a Python program that prompts the user to input an integer and raises a ValueError exception if the input is not a valid integer.\n",
    "\n",
    "exception ValueError:\n",
    "\n",
    "Raised when an operation or function receives an argument that has the right type but an inappropriate value, and the situation is not described by a more precise exception such as IndexError."
   ]
  },
  {
   "cell_type": "code",
   "execution_count": 2,
   "id": "03578fcc",
   "metadata": {},
   "outputs": [
    {
     "name": "stdout",
     "output_type": "stream",
     "text": [
      "Input an integer: 45\n",
      "Input value: 45\n"
     ]
    }
   ],
   "source": [
    "def get_integer_input(prompt):\n",
    "        try:\n",
    "            value = int(input(prompt))\n",
    "            return value\n",
    "        except ValueError:\n",
    "            print(\"Error: Invalid input, input a valid integer.\")\n",
    "# Usage\n",
    "n = get_integer_input(\"Input an integer: \")\n",
    "print(\"Input value:\", n)"
   ]
  },
  {
   "cell_type": "raw",
   "id": "e475482c",
   "metadata": {},
   "source": [
    "Explanation:\n",
    "\n",
    "In the above code, the get_integer_input function takes a prompt parameter that represents the message displayed to the user for input.\n",
    "\n",
    "Within the try block, we use the int() function to convert user input to an integer. If the conversion succeeds, we return the integer value.\n",
    "\n",
    "\n",
    "If the conversion fails and a ValueError exception is raised, the program jumps to the except block. In the except block, we catch the ValueError exception and print an error message indicating the input is invalid."
   ]
  },
  {
   "cell_type": "markdown",
   "id": "cecc6572",
   "metadata": {},
   "source": [
    "# 3. Write a Python program that opens a file and handles a FileNotFoundError exception if the file does not exist.\n",
    "\n",
    "exception FileNotFoundError:\n",
    "\n",
    "Raised when a file or directory is requested but doesn't exist. Corresponds to errno ENOENT.\n",
    "\n"
   ]
  },
  {
   "cell_type": "code",
   "execution_count": 3,
   "id": "ebbbece4",
   "metadata": {},
   "outputs": [
    {
     "name": "stdout",
     "output_type": "stream",
     "text": [
      "Input a file name: test.txt\n",
      "Error: File not found.\n"
     ]
    }
   ],
   "source": [
    "def open_file(filename):\n",
    "    try:\n",
    "        file = open(filename, 'r')\n",
    "        contents = file.read()\n",
    "        print(\"File contents:\")\n",
    "        print(contents)\n",
    "        file.close()\n",
    "    except FileNotFoundError:\n",
    "        print(\"Error: File not found.\")\n",
    "# Usage\n",
    "file_name = input(\"Input a file name: \")\n",
    "open_file(file_name)\n"
   ]
  },
  {
   "cell_type": "raw",
   "id": "7d7b6f22",
   "metadata": {},
   "source": [
    "Explanation:\n",
    "\n",
    "In the above exercise, the \"open_file()\" function takes a \"filename\" parameter representing the name of the file to be opened. Inside the function, we attempt to open the file using the open function with mode 'r' to read the file.\n",
    "\n",
    "If the file exists and can be opened successfully, we read the contents and print them. Finally, we close the file.\n",
    "\n",
    "However, if a FileNotFoundError exception occurs because the file does not exist, the program jumps to the except block. In the except block, we handle the exception by printing an error message indicating that the file was not found."
   ]
  },
  {
   "cell_type": "markdown",
   "id": "42e37b0f",
   "metadata": {},
   "source": [
    "# 4. Write a Python program that prompts the user to input two numbers and raises a TypeError exception if the inputs are not numerical.\n",
    "\n",
    "exception TypeError:\n",
    "\n",
    "Raised when an operation or function is applied to an object of inappropriate type. The associated value is a string giving details about the type mismatch."
   ]
  },
  {
   "cell_type": "code",
   "execution_count": 4,
   "id": "697ea757",
   "metadata": {},
   "outputs": [
    {
     "name": "stdout",
     "output_type": "stream",
     "text": [
      "Input the first number: x\n",
      "Error: Invalid input. Please Input a valid number.\n",
      "Input the first number: 25\n",
      "Input the second number: g\n",
      "Error: Invalid input. Please Input a valid number.\n",
      "Input the second number: 20\n",
      "Product of the said two numbers: 500.0\n"
     ]
    }
   ],
   "source": [
    "def get_numeric_input(prompt):\n",
    "    while True:\n",
    "        try:\n",
    "            value = float(input(prompt))\n",
    "            return value\n",
    "        except ValueError:\n",
    "            print(\"Error: Invalid input. Please Input a valid number.\")\n",
    "# Usage\n",
    "n1 = get_numeric_input(\"Input the first number: \")\n",
    "n2 = get_numeric_input(\"Input the second number: \")\n",
    "result = n1 * n2\n",
    "print(\"Product of the said two numbers:\", result)\n"
   ]
  },
  {
   "cell_type": "raw",
   "id": "b03774cc",
   "metadata": {},
   "source": [
    "Explanation:\n",
    "\n",
    "In the above code, the \"get_numeric_input()\" function takes a prompt parameter representing the message displayed to the user for input. Inside the function, a while loop continuously prompts the user for input until a valid number is entered.\n",
    "\n",
    "Within the try block, we use the float() function to convert the user input to a float. We return the floating value if the conversion succeeds.\n",
    "\n",
    "The program jumps to the except block if the conversion fails and a ValueError exception is raised. In the except block, we catch the ValueError exception and print an error message indicating the input is invalid. The loop continues, prompting the user for input again.\n",
    "\n",
    "In the example usage section, we call the \"get_numeric_input()\" function twice to obtain two numerical inputs from the user. The inputs are stored in n1 and n2 respectively. We then perform a simple multiplication on the numbers and print the result."
   ]
  },
  {
   "cell_type": "markdown",
   "id": "c4a3f301",
   "metadata": {},
   "source": [
    "# 5. Write a Python program that opens a file and handles a PermissionError exception if there is a permission issue.\n",
    "\n",
    "ception PermissionError:\n",
    "\n",
    "Raised when trying to run an operation without the adequate access rights - for example filesystem permissions. Corresponds to errno EACCES, EPERM, and ENOTCAPABLE."
   ]
  },
  {
   "cell_type": "code",
   "execution_count": null,
   "id": "fc5511a9",
   "metadata": {},
   "outputs": [],
   "source": [
    "def open_file(filename):\n",
    "    try:\n",
    "        with open(filename, 'w') as file:\n",
    "            contents = file.read()\n",
    "            print(\"File contents:\")\n",
    "            print(contents)\n",
    "    except PermissionError:\n",
    "        print(\"Error: Permission denied to open the file.\")\n",
    "\n",
    "# Usage\n",
    "file_name = input(\"Input a file name: \")\n",
    "open_file(file_name)\n"
   ]
  },
  {
   "cell_type": "markdown",
   "id": "5c15ba79",
   "metadata": {},
   "source": [
    "Explanation:\n",
    "\n",
    "In the above exercise,\n",
    "\n",
    "The \"open_file()\" function takes a filename parameter representing the name of the file to be opened.\n",
    "Inside the function, there is a try block that attempts to open the file using the open function in the write mode ('w'). The with statement automatically handles file closing.\n",
    "However, immediately after opening the file, it is attempted to read its contents using the read method. This is not valid because the file was opened in write mode, which does not allow reading.\n",
    "If the code reaches the except block, it means there was a PermissionError while opening the file due to a permission issue. In that case, an error message is printed indicating that permission is denied to open the file.\n",
    "In the example usage section, the user is prompted to input a file name. The \"open_file()\" function is then called with the provided file name as an argument."
   ]
  },
  {
   "cell_type": "markdown",
   "id": "c353cb04",
   "metadata": {},
   "source": [
    "# 6. Write a Python program that executes an operation on a list and handles an IndexError exception if the index is out of range.\n",
    "\n",
    "exception IndexError:\n",
    "\n",
    "Raised when a sequence subscript is out of range. (Slice indices are silently truncated to fall in the allowed range; if an index is not an integer, TypeError is raised.)"
   ]
  },
  {
   "cell_type": "code",
   "execution_count": null,
   "id": "bf95218f",
   "metadata": {},
   "outputs": [],
   "source": [
    "def test_index(data, index):\n",
    "    try:\n",
    "        result = data[index]\n",
    "        # Perform desired operation using the result\n",
    "        print(\"Result:\", result)\n",
    "    except IndexError:\n",
    "        print(\"Error: Index out of range.\")\n",
    "\n",
    "\n",
    "nums = [1, 2, 3, 4, 5, 6, 7]\n",
    "index = int(input(\"Input the index: \"))\n",
    "test_index(nums, index)\n"
   ]
  },
  {
   "cell_type": "raw",
   "id": "34d211e4",
   "metadata": {},
   "source": [
    "Explanation:\n",
    "\n",
    "In the above exercise,\n",
    "\n",
    "The \"perform_operation()\" function takes two parameters: data, which represents the list, and index, which represents the index of the element.\n",
    "Inside the function, we use a try block to access the element at the specified index in the list. If the index is within the list range, the element is assigned to the result variable.\n",
    "We can then execute the desired operation using the result. In this example, we simply print the result.\n",
    "If the index is out of range and an IndexError exception occurs, the program jumps to the except block.\n",
    "In the except block, we catch the IndexError exception and print an error message indicating that the index is out of range."
   ]
  },
  {
   "cell_type": "markdown",
   "id": "dd4586f7",
   "metadata": {},
   "source": [
    "# 7. Write a Python program that prompts the user to input a number and handles a KeyboardInterrupt exception if the user cancels the input.\n",
    "\n",
    "exception KeyboardInterrupt:\n",
    "\n",
    "Raised when the user hits the interrupt key (normally Control-C or Delete). During execution, a check for interrupts is made regularly. The exception inherits from BaseException so as to not be accidentally caught by code that catches Exception and thus prevent the interpreter from exiting."
   ]
  },
  {
   "cell_type": "code",
   "execution_count": null,
   "id": "3b93d40b",
   "metadata": {},
   "outputs": [],
   "source": [
    "try:\n",
    "    n = int(input(\"Input a number: \"))\n",
    "    print(\"You entered:\", n)\n",
    "except KeyboardInterrupt:\n",
    "    print(\"Input canceled by the user.\")\n"
   ]
  },
  {
   "cell_type": "raw",
   "id": "f35f77a8",
   "metadata": {},
   "source": [
    "Explanation:\n",
    "\n",
    "In the above exercise,\n",
    "\n",
    "We use a try block to wrap the code that prompts the user to input a number. Inside the try block, we use the input function to obtain user input, and int() function to convert it to an integer.\n",
    "If the user successfully enters a number, the program proceeds to the next line, where it prints the entered number.\n",
    "However, if the user cancels the input by pressing Ctrl+C (KeyboardInterrupt), the program jumps to the except block. We catch the KeyboardInterrupt exception in the except block and print an error message informing the user that input has been canceled."
   ]
  },
  {
   "cell_type": "markdown",
   "id": "835d59cc",
   "metadata": {},
   "source": [
    "# 8. Write a Python program that executes division and handles an ArithmeticError exception if there is an arithmetic error.\n",
    "\n",
    "exception ArithmeticError:\n",
    "\n",
    "The base class for those built-in exceptions that are raised for various arithmetic errors: OverflowError, ZeroDivisionError, FloatingPointError."
   ]
  },
  {
   "cell_type": "code",
   "execution_count": null,
   "id": "d02f93dd",
   "metadata": {},
   "outputs": [],
   "source": [
    "def division(dividend, divisor):\n",
    "    try:\n",
    "        result = dividend / divisor\n",
    "        print(\"Result:\", result)\n",
    "    except ArithmeticError:\n",
    "        print(\"Error: Arithmetic error occurred!\")\n",
    "#Usage\n",
    "dividend = float(input(\"Input the dividend: \"))\n",
    "divisor = float(input(\"Input the divisor: \"))\n",
    "division(dividend, divisor)\n"
   ]
  },
  {
   "cell_type": "raw",
   "id": "cf3b49d9",
   "metadata": {},
   "source": [
    "Explanation:\n",
    "\n",
    "In the above exercise -\n",
    "\n",
    "The \"perform_division()\" function takes two parameters: dividend and divisor, representing the numbers to be divided.\n",
    "Inside the function, we use a try block to perform the division operation. If the division can be performed without arithmetic error, the result is assigned to the result variable.\n",
    "The result is then printed.\n",
    "If an arithmetic error occurs during division, such as dividing by zero, an ArithmeticError exception is raised. We catch the ArithmeticError exception in the except block and print an error message indicating that an arithmetic error occurred."
   ]
  },
  {
   "cell_type": "markdown",
   "id": "bc8d1f3b",
   "metadata": {},
   "source": [
    "# 9. Write a Python program that opens a file and handles a UnicodeDecodeError exception if there is an encoding issue.\n",
    "\n",
    "exception UnicodeDecodeError:\n",
    "\n",
    "Raised when a Unicode-related error occurs during decoding. It is a subclass of UnicodeError."
   ]
  },
  {
   "cell_type": "code",
   "execution_count": null,
   "id": "15cf553d",
   "metadata": {},
   "outputs": [],
   "source": [
    "def open_file(filename):\n",
    "    encoding = input(\"Input the encoding (ASCII,UTF-16,UTF-8) for the file: \")\n",
    "    try:\n",
    "        with open(filename, 'r', encoding=encoding) as file:\n",
    "            contents = file.read()\n",
    "            print(\"File contents:\")\n",
    "            print(contents)\n",
    "    except UnicodeDecodeError:\n",
    "        print(\"Error: Encoding issue occurred while reading the file.\")\n",
    "# Usage\n",
    "file_name = input(\"Input the file name: \")\n",
    "open_file(file_name)\n"
   ]
  },
  {
   "cell_type": "raw",
   "id": "2f3f159d",
   "metadata": {},
   "source": [
    "Explanation:\n",
    "\n",
    "In the above exercise -\n",
    "\n",
    "The \"open_file()\" function is defined with a parameter filename, which represents the name of the file to be opened and read.\n",
    "Inside the function, the user is prompted to input the file encoding. The available options are \"ASCII\", \"UTF-16\", and \"UTF-8\". The user's input is stored in \"encoding\" variable.\n",
    "The code then enters a try block, where it attempts to open the file using the specified filename and encoding using the open function with the mode set to 'r' (read mode).\n",
    "If the file is successfully opened, the file contents are read using the read method and stored in the contents variable.\n",
    "The program then prints \"File contents:\" to indicate that the file contents are about to be displayed.\n",
    "Finally, the file contents are printed to the console using the print function.\n",
    "If a UnicodeDecodeError exception occurs while reading the file due to an encoding issue, the code jumps to the except block. In this case, the program prints an error message indicating that an encoding issue occurred while reading the file.\n",
    "In the example usage section, the user is prompted to input the name of the file they want to open and read. The user's input is stored in the file_name variable.\n",
    "The open_file function is then called with file_name as an argument, executing the file opening and reading operation."
   ]
  },
  {
   "cell_type": "markdown",
   "id": "d37e46c4",
   "metadata": {},
   "source": [
    "# 10. Write a Python program that executes a list operation and handles an AttributeError exception if the attribute does not exist.\n",
    "\n",
    "exception AttributeError:\n",
    "\n",
    "Raised when an attribute reference (see Attribute references) or assignment fails. (When an object does not support attribute references or attribute assignments at all, TypeError is raised.)"
   ]
  },
  {
   "cell_type": "code",
   "execution_count": null,
   "id": "faa6382d",
   "metadata": {},
   "outputs": [],
   "source": [
    "def test_list_operation(nums):\n",
    "    try:\n",
    "        r = len(nums)  # Trying to access the length attribute\n",
    "        print(\"Length of the list:\", r)\n",
    "    except AttributeError:\n",
    "        print(\"Error: The list does not have a 'length' attribute.\")\n",
    "nums = [1, 2, 3, 4, 5]\n",
    "test_list_operation(nums)\n"
   ]
  },
  {
   "cell_type": "raw",
   "id": "38422524",
   "metadata": {},
   "source": [
    "Explanation:\n",
    "\n",
    "In the above exercises,\n",
    "\n",
    "The \"test_list_operation() function is defined, which takes a list, \"nums\", as a parameter.\n",
    "\n",
    "Inside the function, we use a try block to perform the list operation. In this case, we try to access the list length using the len() function and store it in the length variable.\n",
    "\n",
    "If the len() function is successfully executed, we print the list length.\n",
    "\n",
    "However, if an AttributeError exception occurs because the list does not have a length attribute, the program jumps to the except block. In this block, we catch the AttributeError exception and print an error message indicating that the list does not have a length attribute."
   ]
  }
 ],
 "metadata": {
  "kernelspec": {
   "display_name": "Python 3 (ipykernel)",
   "language": "python",
   "name": "python3"
  },
  "language_info": {
   "codemirror_mode": {
    "name": "ipython",
    "version": 3
   },
   "file_extension": ".py",
   "mimetype": "text/x-python",
   "name": "python",
   "nbconvert_exporter": "python",
   "pygments_lexer": "ipython3",
   "version": "3.9.13"
  }
 },
 "nbformat": 4,
 "nbformat_minor": 5
}
