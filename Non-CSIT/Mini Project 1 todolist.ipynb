{
 "cells": [
  {
   "cell_type": "markdown",
   "id": "00fe87a0",
   "metadata": {},
   "source": [
    "# Python implementation of Creating todolist task manager "
   ]
  },
  {
   "cell_type": "raw",
   "id": "528cfe98",
   "metadata": {},
   "source": [
    "Maintaining a To-do list always helps to organize the day and work better and make it the most productive.\n",
    "\n",
    "Let’s start with the development of python To-do list.\n",
    "\n",
    "To Do List in Python\n",
    "We are going to implement a simple python to-do list in which we can add a task and delete it when it’s done. We will be using a Python package called Tkinter which is a widely used Python GUI library. It is shipped with python, so we do not have to download or install it separately, we can just import and start with it.\n",
    "\n",
    "A GUI is basically a medium to interact and present information to the users. One of the major advantages of using Tkinter is that it works well on any machine be it windows, linux, or macOS."
   ]
  },
  {
   "cell_type": "code",
   "execution_count": 1,
   "id": "3f5cde8e",
   "metadata": {},
   "outputs": [],
   "source": [
    "# Importing all the necessary modules\n",
    "from tkinter import *"
   ]
  },
  {
   "cell_type": "code",
   "execution_count": 2,
   "id": "4d63f56d",
   "metadata": {},
   "outputs": [],
   "source": [
    "# Adding and Deleting items functions\n",
    "def add_item(entry: Entry, listbox: Listbox):\n",
    "    new_task = entry.get()\n",
    "\n",
    "    listbox.insert(END, new_task)\n",
    "\n",
    "    with open('tasks.txt', 'a') as tasks_list_file:\n",
    "        tasks_list_file.write(f'\\n{new_task}')\n",
    "\n",
    "\n",
    "def delete_item(listbox: Listbox):\n",
    "    listbox.delete(ACTIVE)\n",
    "\n",
    "    with open('tasks.txt', 'r+') as tasks_list_file:\n",
    "        lines = tasks_list_file.readlines()\n",
    "\n",
    "        tasks_list_file.truncate()\n",
    "\n",
    "        for line in lines:\n",
    "            if listbox.get(ACTIVE) == line[:-2]:\n",
    "                lines.remove(line)\n",
    "            tasks_list_file.write(line)\n",
    "\n",
    "        tasks_list_file.close()\n"
   ]
  },
  {
   "cell_type": "raw",
   "id": "73aebd02",
   "metadata": {},
   "source": [
    "Explanation:\n",
    "\n",
    "In this step, we will create two functions, one to add items to the python to-do list and the other to delete an item from the list.\n",
    "\n",
    "In the add_item function, the user will give it to arguments, one an Entry object and the other a Listbox object.\n",
    "In this function, we will give the Entry object’s user-provided text to a variable and then insert that variable to the last of our listbox object, and the last line of our text file.\n",
    "\n",
    "\n",
    "In the delete_item function, the user will give the function one argument that will be a listbox object.\n",
    "In this function, we will delete the item selected in the listbox object. We will first remove that element from the listbox and then go through every text file line to see if anything matches. If it does, we remove it too.\n"
   ]
  },
  {
   "cell_type": "code",
   "execution_count": 3,
   "id": "84fd334f",
   "metadata": {},
   "outputs": [],
   "source": [
    "# Initializing the GUI window\n",
    "root = Tk()\n",
    "root.title('To-Do List')\n",
    "root.geometry('300x400')\n",
    "root.resizable(0, 0)\n",
    "root.config(bg=\"PaleVioletRed\")\n"
   ]
  },
  {
   "cell_type": "code",
   "execution_count": 4,
   "id": "13f6f98f",
   "metadata": {},
   "outputs": [],
   "source": [
    "# Heading Label\n",
    "Label(root, text='To-Do List', bg='PaleVioletRed', font=(\"Comic Sans MS\", 15), wraplength=300).place(\n",
    "    x=35, y=0)\n"
   ]
  },
  {
   "cell_type": "code",
   "execution_count": 5,
   "id": "a1a36358",
   "metadata": {},
   "outputs": [],
   "source": [
    "# Listbox with all the tasks with a Scrollbar\n",
    "tasks = Listbox(root, selectbackground='Gold', bg='Silver', font=('Helvetica', 12), height=12, width=25)\n",
    "scroller = Scrollbar(root, orient=VERTICAL, command=tasks.yview)\n",
    "scroller.place(x=260, y=50, height=232)\n",
    "\n",
    "tasks.config(yscrollcommand=scroller.set)\n",
    "\n",
    "tasks.place(x=35, y=50)"
   ]
  },
  {
   "cell_type": "code",
   "execution_count": 6,
   "id": "9de64d4e",
   "metadata": {},
   "outputs": [],
   "source": [
    "# Adding items to the Listbox\n",
    "with open('tasks.txt', 'a+') as tasks_list:\n",
    "    for task in tasks_list:\n",
    "        tasks.insert(END, task)\n",
    "    tasks_list.close()"
   ]
  },
  {
   "cell_type": "code",
   "execution_count": 7,
   "id": "64d6c3aa",
   "metadata": {},
   "outputs": [],
   "source": [
    "# Creating the Entry widget where the user can enter a new item\n",
    "new_item_entry = Entry(root, width=37)\n",
    "new_item_entry.place(x=35, y=310)\n"
   ]
  },
  {
   "cell_type": "code",
   "execution_count": 8,
   "id": "2cb2fbcb",
   "metadata": {},
   "outputs": [],
   "source": [
    "# Creating the Buttons\n",
    "add_btn = Button(root, text='Add Item', bg='Azure', width=10, font=('Helvetica', 12),\n",
    "                 command=lambda: add_item(new_item_entry, tasks))\n",
    "add_btn.place(x=45, y=350)\n",
    "\n",
    "delete_btn = Button(root, text='Delete Item', bg='Azure', width=10, font=('Helvetica', 12),\n",
    "                 command=lambda: delete_item(tasks))\n",
    "delete_btn.place(x=150, y=350)\n"
   ]
  },
  {
   "cell_type": "code",
   "execution_count": 9,
   "id": "ff1891d7",
   "metadata": {},
   "outputs": [],
   "source": [
    "# Finalizing the window\n",
    "root.update()\n",
    "root.mainloop()\n"
   ]
  },
  {
   "cell_type": "raw",
   "id": "7be708fa",
   "metadata": {},
   "source": [
    "Explanation:\n",
    "\n",
    "1.To initialize the to-do list window, you need to initialize the Tk() class to a variable. Then, you need to set the following attributes:\n",
    "\n",
    "2.title() method is used to give a title to the project window.\n",
    "\n",
    "3.geometry() method is used to set the initial geometry of window.\n",
    "\n",
    "4.resizable() method is used to allow/deny the user the permission to resize the python to-do list window. It takes truthy and falsy values and arguments to the parameters width and height.\n",
    "\n",
    "5.config() method is used to configure some extra attributes of the window, like bg or background to set the background color.\n",
    "\n",
    "6.update() and .mainloop() methods are used to put the window in a loop to prevent it from closing nanoseconds after it opens.\n",
    "\n",
    "Note: These lines of code will be considered the last lines that will be read by the interpreter to run the script.\n",
    "\n",
    "7 The Label class is used to create a label that displays the static screen on the window and set the following parameters to it:\n",
    "\n",
    "8.master attribute, positional argument root in this case, is used to specify the parent widget of the widget.\n",
    "\n",
    "9.text attribute is used to mention the text that will be displayed on the label.\n",
    "\n",
    "10.font is used to specify the font family, size and effects on the text.\n",
    "\n",
    "11. wraplength attribute is the length after which the text will be wrapped on the window.\n",
    "\n",
    "12.The Button class is used to create a button on the screen that executes a function as a command when pressed. You need to give it the parameters as mentioned in the code to add it to the screen.\n",
    "\n",
    "13.command attribute is the function that will run when the button is pressed. You do not need to use the lambda keyword if the function requires no arguments.\n",
    "\n",
    "14.width attribute is the width of the button in pixels.\n",
    "\n",
    "15.The Entry class is used to add an input widget to the window that accepts input data from the user. The attributes and methods of this class used in this python to do list project are:\n",
    "\n",
    "16.The .get() method is used to get the text inputted by the user in the widget. It requires no arguments for this widget.\n",
    "\n",
    "17.The Listbox class is used to add a list box to the window that displays multiple items on the screen. Its attributes, parameters and methods are:\n",
    "\n",
    " selectbackground attribute is used to mention the color of the background once an item is selected.\n",
    " \n",
    " width attribute represents the number of characters visible.\n",
    " \n",
    " height attribute represents the number of items visible on the screen.\n",
    " \n",
    " yscrollcommand attribute is used to pack the widget to a scrollbar that will navigate up and down the widget.\n",
    " \n",
    " insert() method is used to insert an element to the widget. It takes 2 arguments, index and element.\n",
    " \n",
    " index can either be a number or an acceptable tkinter constant, END, in this case.\n",
    " \n",
    " The element is the item to be added to the widget.\n",
    " \n",
    " get() method is used to get an element from the widget. It takes only one – index argument.\n",
    " \n",
    " The index is either a number or an acceptable tkinter constant, which in this case is ACTIVE to get the selected element.\n",
    " \n",
    " yview() method is used to make the widget vertically scrollable.\n",
    " \n",
    "18.The Scrollbar class is used to add a scroll bar to the widget on the window to navigate up and down, or right to left in said widget. Its attributes (undiscussed) are:\n",
    "\n",
    " The orient attribute is used to mention whether the scrollbar will scroll vertically or horizontally.\n",
    " \n",
    "19. The with open(“<filename>.<extension>”, “<mode>”) as alias is used to open a file in the <mode> mode, to perform actions on it.\n",
    "The modes are:\n",
    "“r”, for reading a file\n",
    "“w”, for writing a file\n",
    "“a”, for appending text to the file\n",
    "“x”, to create a file\n",
    "“r+”, for reading and writing a file\n",
    "“t”, to open the file in text mode (default)\n",
    "“b”, to open the file in binary mode.\n",
    "\n",
    "20.The actions that can be performed on it are:\n",
    "To close – .close() method\n",
    "To rewrite the file completely – .write(‘’) method when opened in “w” or “r+” mode\n",
    "To add text to the file – .write(text_to_add) method when opened in “a” mode\n",
    "To reduce the size – .truncate(int(<size in bytes>)) method\n",
    "To store all the lines in a list – .readlines() method\n",
    "To remove a line – .remove(line_to_remove) method"
   ]
  },
  {
   "cell_type": "code",
   "execution_count": null,
   "id": "db5729e8",
   "metadata": {},
   "outputs": [],
   "source": []
  },
  {
   "cell_type": "code",
   "execution_count": null,
   "id": "70323c4a",
   "metadata": {},
   "outputs": [],
   "source": []
  },
  {
   "cell_type": "code",
   "execution_count": null,
   "id": "8e250679",
   "metadata": {},
   "outputs": [],
   "source": []
  },
  {
   "cell_type": "code",
   "execution_count": null,
   "id": "07c32b5a",
   "metadata": {},
   "outputs": [],
   "source": []
  },
  {
   "cell_type": "code",
   "execution_count": null,
   "id": "caf28d35",
   "metadata": {},
   "outputs": [],
   "source": []
  },
  {
   "cell_type": "code",
   "execution_count": null,
   "id": "8a652300",
   "metadata": {},
   "outputs": [],
   "source": []
  },
  {
   "cell_type": "code",
   "execution_count": null,
   "id": "2a2dc3bd",
   "metadata": {},
   "outputs": [],
   "source": []
  }
 ],
 "metadata": {
  "kernelspec": {
   "display_name": "Python 3 (ipykernel)",
   "language": "python",
   "name": "python3"
  },
  "language_info": {
   "codemirror_mode": {
    "name": "ipython",
    "version": 3
   },
   "file_extension": ".py",
   "mimetype": "text/x-python",
   "name": "python",
   "nbconvert_exporter": "python",
   "pygments_lexer": "ipython3",
   "version": "3.9.13"
  }
 },
 "nbformat": 4,
 "nbformat_minor": 5
}
