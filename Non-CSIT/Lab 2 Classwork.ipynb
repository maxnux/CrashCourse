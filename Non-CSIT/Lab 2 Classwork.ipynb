{
 "cells": [
  {
   "cell_type": "markdown",
   "id": "3768d4f8",
   "metadata": {},
   "source": [
    "# EDUNET FOUNDATION-Self-Practice Notebook"
   ]
  },
  {
   "cell_type": "markdown",
   "id": "5771d01c",
   "metadata": {},
   "source": [
    "# Lab 2 : Classwork Notebook"
   ]
  },
  {
   "attachments": {},
   "cell_type": "markdown",
   "id": "6b8b54a3",
   "metadata": {},
   "source": [
    "Lab 2 a: Write a program to print your name in capital letters."
   ]
  },
  {
   "cell_type": "code",
   "execution_count": 2,
   "id": "ba68a5b4",
   "metadata": {},
   "outputs": [
    {
     "name": "stdout",
     "output_type": "stream",
     "text": [
      "EDUNET FOUNDATION\n"
     ]
    }
   ],
   "source": [
    "name = \"Edunet Foundation\"\n",
    "print(name.upper())"
   ]
  },
  {
   "cell_type": "markdown",
   "id": "70f49cf3",
   "metadata": {},
   "source": [
    "Lab 2 b: Write a program to print integer value in python."
   ]
  },
  {
   "cell_type": "code",
   "execution_count": 4,
   "id": "58b91bba",
   "metadata": {},
   "outputs": [
    {
     "name": "stdout",
     "output_type": "stream",
     "text": [
      "9\n"
     ]
    }
   ],
   "source": [
    "roll_no = 9.23\n",
    "print(int(roll_no))"
   ]
  },
  {
   "cell_type": "markdown",
   "id": "e0b12712",
   "metadata": {},
   "source": [
    "Lab 2 c: Write a program to print float value in python"
   ]
  },
  {
   "cell_type": "code",
   "execution_count": 6,
   "id": "4a56dec3",
   "metadata": {},
   "outputs": [
    {
     "name": "stdout",
     "output_type": "stream",
     "text": [
      "10.0\n"
     ]
    }
   ],
   "source": [
    "number = 10\n",
    "print(float(number))"
   ]
  }
 ],
 "metadata": {
  "kernelspec": {
   "display_name": "Python 3 (ipykernel)",
   "language": "python",
   "name": "python3"
  },
  "language_info": {
   "codemirror_mode": {
    "name": "ipython",
    "version": 3
   },
   "file_extension": ".py",
   "mimetype": "text/x-python",
   "name": "python",
   "nbconvert_exporter": "python",
   "pygments_lexer": "ipython3",
   "version": "3.9.13"
  }
 },
 "nbformat": 4,
 "nbformat_minor": 5
}
